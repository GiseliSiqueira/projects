{
  "nbformat": 4,
  "nbformat_minor": 0,
  "metadata": {
    "colab": {
      "provenance": []
    },
    "kernelspec": {
      "name": "python3",
      "display_name": "Python 3"
    }
  },
  "cells": [
    {
      "cell_type": "markdown",
      "source": [
        "### **IOT APLICADA AO MONITORAMENTO DA SAÚDE DE PESSOAS IDOSAS: UM SISTEMA PARA IDENTIFICAÇÃO DE QUEDAS**\n",
        "\n",
        "---\n",
        "\n",
        "Objetivo:\n",
        "Nesse projeto é desenvolvido um sistema de monitoramento das condições de saúde humana, mais especificamente a ocorrência de quedas de pessoas idosas, utilizando dados de indicadores físicos de saúde obtidos através de dispositivos vestíveis como smartwatches a fim de identificar situações atípicas.\n",
        "\n",
        "---\n"
      ],
      "metadata": {
        "id": "Mgz9EBYqpIKQ"
      }
    },
    {
      "cell_type": "markdown",
      "source": [
        "Instalação de API python para google Sheets"
      ],
      "metadata": {
        "id": "xXLBTa9_pQlv"
      }
    },
    {
      "cell_type": "code",
      "metadata": {
        "id": "DIgWNRuAcqqt",
        "outputId": "0f767852-5912-4bad-ad49-4ffd98ba71d6",
        "colab": {
          "base_uri": "https://localhost:8080/"
        }
      },
      "source": [
        "!pip install --upgrade gspread"
      ],
      "execution_count": null,
      "outputs": [
        {
          "output_type": "stream",
          "name": "stdout",
          "text": [
            "Requirement already satisfied: gspread in /usr/local/lib/python3.7/dist-packages (5.1.1)\n",
            "Requirement already satisfied: google-auth>=1.12.0 in /usr/local/lib/python3.7/dist-packages (from gspread) (1.35.0)\n",
            "Requirement already satisfied: google-auth-oauthlib>=0.4.1 in /usr/local/lib/python3.7/dist-packages (from gspread) (0.4.6)\n",
            "Requirement already satisfied: pyasn1-modules>=0.2.1 in /usr/local/lib/python3.7/dist-packages (from google-auth>=1.12.0->gspread) (0.2.8)\n",
            "Requirement already satisfied: setuptools>=40.3.0 in /usr/local/lib/python3.7/dist-packages (from google-auth>=1.12.0->gspread) (57.4.0)\n",
            "Requirement already satisfied: rsa<5,>=3.1.4 in /usr/local/lib/python3.7/dist-packages (from google-auth>=1.12.0->gspread) (4.8)\n",
            "Requirement already satisfied: cachetools<5.0,>=2.0.0 in /usr/local/lib/python3.7/dist-packages (from google-auth>=1.12.0->gspread) (4.2.4)\n",
            "Requirement already satisfied: six>=1.9.0 in /usr/local/lib/python3.7/dist-packages (from google-auth>=1.12.0->gspread) (1.15.0)\n",
            "Requirement already satisfied: requests-oauthlib>=0.7.0 in /usr/local/lib/python3.7/dist-packages (from google-auth-oauthlib>=0.4.1->gspread) (1.3.0)\n",
            "Requirement already satisfied: pyasn1<0.5.0,>=0.4.6 in /usr/local/lib/python3.7/dist-packages (from pyasn1-modules>=0.2.1->google-auth>=1.12.0->gspread) (0.4.8)\n",
            "Requirement already satisfied: oauthlib>=3.0.0 in /usr/local/lib/python3.7/dist-packages (from requests-oauthlib>=0.7.0->google-auth-oauthlib>=0.4.1->gspread) (3.1.1)\n",
            "Requirement already satisfied: requests>=2.0.0 in /usr/local/lib/python3.7/dist-packages (from requests-oauthlib>=0.7.0->google-auth-oauthlib>=0.4.1->gspread) (2.23.0)\n",
            "Requirement already satisfied: chardet<4,>=3.0.2 in /usr/local/lib/python3.7/dist-packages (from requests>=2.0.0->requests-oauthlib>=0.7.0->google-auth-oauthlib>=0.4.1->gspread) (3.0.4)\n",
            "Requirement already satisfied: idna<3,>=2.5 in /usr/local/lib/python3.7/dist-packages (from requests>=2.0.0->requests-oauthlib>=0.7.0->google-auth-oauthlib>=0.4.1->gspread) (2.10)\n",
            "Requirement already satisfied: certifi>=2017.4.17 in /usr/local/lib/python3.7/dist-packages (from requests>=2.0.0->requests-oauthlib>=0.7.0->google-auth-oauthlib>=0.4.1->gspread) (2021.10.8)\n",
            "Requirement already satisfied: urllib3!=1.25.0,!=1.25.1,<1.26,>=1.21.1 in /usr/local/lib/python3.7/dist-packages (from requests>=2.0.0->requests-oauthlib>=0.7.0->google-auth-oauthlib>=0.4.1->gspread) (1.24.3)\n"
          ]
        }
      ]
    },
    {
      "cell_type": "markdown",
      "source": [
        "Instalação de API python para Office Open XML"
      ],
      "metadata": {
        "id": "9zrBh-ETpfvN"
      }
    },
    {
      "cell_type": "code",
      "source": [
        "!pip install openpyxl==3.0.5"
      ],
      "metadata": {
        "id": "HUqBtgD6GwLL",
        "colab": {
          "base_uri": "https://localhost:8080/"
        },
        "outputId": "dda104bc-c882-4bb1-f719-b0572d8b4462"
      },
      "execution_count": null,
      "outputs": [
        {
          "output_type": "stream",
          "name": "stdout",
          "text": [
            "Collecting openpyxl==3.0.5\n",
            "  Downloading openpyxl-3.0.5-py2.py3-none-any.whl (242 kB)\n",
            "\u001b[?25l\r\u001b[K     |█▍                              | 10 kB 15.7 MB/s eta 0:00:01\r\u001b[K     |██▊                             | 20 kB 20.3 MB/s eta 0:00:01\r\u001b[K     |████                            | 30 kB 23.0 MB/s eta 0:00:01\r\u001b[K     |█████▍                          | 40 kB 17.7 MB/s eta 0:00:01\r\u001b[K     |██████▊                         | 51 kB 8.4 MB/s eta 0:00:01\r\u001b[K     |████████                        | 61 kB 8.7 MB/s eta 0:00:01\r\u001b[K     |█████████▌                      | 71 kB 7.9 MB/s eta 0:00:01\r\u001b[K     |██████████▉                     | 81 kB 8.8 MB/s eta 0:00:01\r\u001b[K     |████████████▏                   | 92 kB 9.7 MB/s eta 0:00:01\r\u001b[K     |█████████████▌                  | 102 kB 8.0 MB/s eta 0:00:01\r\u001b[K     |██████████████▉                 | 112 kB 8.0 MB/s eta 0:00:01\r\u001b[K     |████████████████▏               | 122 kB 8.0 MB/s eta 0:00:01\r\u001b[K     |█████████████████▌              | 133 kB 8.0 MB/s eta 0:00:01\r\u001b[K     |███████████████████             | 143 kB 8.0 MB/s eta 0:00:01\r\u001b[K     |████████████████████▎           | 153 kB 8.0 MB/s eta 0:00:01\r\u001b[K     |█████████████████████▋          | 163 kB 8.0 MB/s eta 0:00:01\r\u001b[K     |███████████████████████         | 174 kB 8.0 MB/s eta 0:00:01\r\u001b[K     |████████████████████████▎       | 184 kB 8.0 MB/s eta 0:00:01\r\u001b[K     |█████████████████████████▋      | 194 kB 8.0 MB/s eta 0:00:01\r\u001b[K     |███████████████████████████     | 204 kB 8.0 MB/s eta 0:00:01\r\u001b[K     |████████████████████████████▍   | 215 kB 8.0 MB/s eta 0:00:01\r\u001b[K     |█████████████████████████████▊  | 225 kB 8.0 MB/s eta 0:00:01\r\u001b[K     |███████████████████████████████ | 235 kB 8.0 MB/s eta 0:00:01\r\u001b[K     |████████████████████████████████| 242 kB 8.0 MB/s \n",
            "\u001b[?25hRequirement already satisfied: jdcal in /usr/local/lib/python3.7/dist-packages (from openpyxl==3.0.5) (1.4.1)\n",
            "Requirement already satisfied: et-xmlfile in /usr/local/lib/python3.7/dist-packages (from openpyxl==3.0.5) (1.1.0)\n",
            "Installing collected packages: openpyxl\n",
            "  Attempting uninstall: openpyxl\n",
            "    Found existing installation: openpyxl 2.5.9\n",
            "    Uninstalling openpyxl-2.5.9:\n",
            "      Successfully uninstalled openpyxl-2.5.9\n",
            "Successfully installed openpyxl-3.0.5\n"
          ]
        }
      ]
    },
    {
      "cell_type": "markdown",
      "source": [
        "Importação de bibliotecas necessárias"
      ],
      "metadata": {
        "id": "JYQ6eodcqIox"
      }
    },
    {
      "cell_type": "code",
      "source": [
        "#Importação de bibliotecas e leitura do dataset\n",
        "import os\n",
        "import pandas as pd\n",
        "import math\n",
        "import matplotlib.pyplot as plt\n",
        "import numpy as np\n",
        "from tqdm import tqdm\n",
        "from datetime import datetime,timedelta,time\n",
        "from sklearn.metrics import classification_report"
      ],
      "metadata": {
        "id": "_Qdbhvn7HJzr"
      },
      "execution_count": null,
      "outputs": []
    },
    {
      "cell_type": "markdown",
      "source": [
        "Autenticação no Drive para acesso ao arquivo de dados"
      ],
      "metadata": {
        "id": "RVq9uHnWpxL6"
      }
    },
    {
      "cell_type": "code",
      "metadata": {
        "id": "J_mXGYIsfv46"
      },
      "source": [
        "#Credenciais para o Drive\n",
        "from google.colab import auth\n",
        "auth.authenticate_user()\n",
        "\n",
        "import gspread\n",
        "from google.auth import default\n",
        "creds, _ = default()\n",
        "\n",
        "gc = gspread.authorize(creds)"
      ],
      "execution_count": null,
      "outputs": []
    },
    {
      "cell_type": "markdown",
      "source": [
        "Montagem do drive"
      ],
      "metadata": {
        "id": "vj0eurBDqXo2"
      }
    },
    {
      "cell_type": "code",
      "source": [
        "from google.colab import drive\n",
        "drive.mount('/content/drive')"
      ],
      "metadata": {
        "id": "4OOfvryMA1_E",
        "outputId": "d42caa8a-8f9e-4f9e-9df9-1f51b3f7eb85",
        "colab": {
          "base_uri": "https://localhost:8080/"
        }
      },
      "execution_count": null,
      "outputs": [
        {
          "output_type": "stream",
          "name": "stdout",
          "text": [
            "Mounted at /content/drive\n"
          ]
        }
      ]
    },
    {
      "cell_type": "markdown",
      "metadata": {
        "id": "Xk64gGO487bh"
      },
      "source": [
        "#Detecção de possivel queda\n",
        "---\n",
        "Possivel queda:\n",
        "1. a aceleração deve exceder um limite superior que pode assumir valores de 10 a 18 m / seg2 dependendo do perfil do usuário.\n",
        "2. Após um intervalo de tempo flexível, a aceleração deve exceder um limite inferior que pode assumir valores de 2 a 7 m / seg2 dependendo novamente do perfil do usuário.\n",
        "\n",
        "A diferença de tempo entre os dois picos representa a recuperação do usuário após uma queda.\n",
        "O intervalo de tempo entre o pico mais alto e o mais baixo é flexível, mas não pode exceder os 0,5 segundos, que é a duração máxima do rebote após uma queda de acordo com nossos experimentos.\n",
        "\n",
        "Se as duas condições forem satisfeitas durante a janela de tempo de 6 segundos, suspeita-se de uma possível queda.\n",
        "\n",
        "---"
      ]
    },
    {
      "cell_type": "markdown",
      "source": [
        "Leitura do dataset no drive"
      ],
      "metadata": {
        "id": "m6ffB8TwquX7"
      }
    },
    {
      "cell_type": "code",
      "metadata": {
        "id": "sDIM3XqjsEKa"
      },
      "source": [
        "dataset = pd.read_excel(\"/content/drive/MyDrive/Colab Notebooks/DataSet.xlsx\")"
      ],
      "execution_count": null,
      "outputs": []
    },
    {
      "cell_type": "markdown",
      "source": [
        "Tratamento de dados: Filtragem e renomeação das colunas do dataset"
      ],
      "metadata": {
        "id": "c0iaiz7iqkvk"
      }
    },
    {
      "cell_type": "code",
      "metadata": {
        "id": "29eIOo7TFZHK"
      },
      "source": [
        "#Filtragem e renomeação de colunas do dataset\n",
        "data = dataset.iloc[0:,[0,29,30,31,43,44,45]] #pulso\n",
        "#data = dataset.iloc[0:,[0,1,2,3,43,44,45]] #tornozelo\n",
        "#data = dataset.iloc[0:,[0,8,9,10,43,44,45]] #bolso\n",
        "#data = dataset.iloc[0:,[0,15,16,17,43,44,45]] #cintura\n",
        "#data = dataset.iloc[0:,[0,22,23,24,43,44,45]] #pescoço\n",
        "\n",
        "data.rename(columns={'WristAccelerometer': 'WristAccelerometer - '+ data.iloc[0][1]},inplace=True)\n",
        "data.rename(columns={'Unnamed: 30': 'WristAccelerometer - '+ data.iloc[0][2]},inplace=True)\n",
        "data.rename(columns={'Unnamed: 31': 'WristAccelerometer - '+ data.iloc[0][3]},inplace=True)\n",
        "data['TimeStamps'] = pd.to_numeric(pd.to_datetime(data['TimeStamps'])) / 1e9\n",
        "data = data.drop(0)\n",
        "data.head()\n",
        "\n",
        "data_np = data.to_numpy().astype(np.float) #Conversão do dataframe para array numpy\n",
        "print(data_np)"
      ],
      "execution_count": null,
      "outputs": []
    },
    {
      "cell_type": "markdown",
      "source": [
        "Constantes definidas para auxilio com coordenadas"
      ],
      "metadata": {
        "id": "MySBq0grrsRg"
      }
    },
    {
      "cell_type": "code",
      "source": [
        "EIXO_X = 1\n",
        "EIXO_Y = 2\n",
        "EIXO_Z = 3"
      ],
      "metadata": {
        "id": "docyjviCMxVT"
      },
      "execution_count": null,
      "outputs": []
    },
    {
      "cell_type": "markdown",
      "source": [
        "Tratamento de dados: calculo do valor absoluto para ajuste de escala"
      ],
      "metadata": {
        "id": "z8uaUCcesKrE"
      }
    },
    {
      "cell_type": "code",
      "source": [
        "for linha in range(data_np.shape[0]):\n",
        "  for coluna in [EIXO_X, EIXO_Y, EIXO_Z]:\n",
        "    if abs(data_np[linha, coluna]) > 30:\n",
        "      data_np[linha, coluna] /= 1000.0\n",
        "\n",
        "print(data_np)"
      ],
      "metadata": {
        "colab": {
          "base_uri": "https://localhost:8080/"
        },
        "id": "4Fu6jgC4QcRI",
        "outputId": "8d245d93-3f6e-4bc8-e589-9fc7232c6a88"
      },
      "execution_count": null,
      "outputs": [
        {
          "output_type": "stream",
          "name": "stdout",
          "text": [
            "[[ 1.53070586e+09 -1.24000000e+00 -5.57000000e-01 ...  1.00000000e+00\n",
            "   1.00000000e+00  1.00000000e+00]\n",
            " [ 1.53070586e+09 -1.24000000e+00 -5.57000000e-01 ...  1.00000000e+00\n",
            "   1.00000000e+00  1.00000000e+00]\n",
            " [ 1.53070586e+09 -1.88400000e+00 -6.87000000e-01 ...  1.00000000e+00\n",
            "   1.00000000e+00  1.00000000e+00]\n",
            " ...\n",
            " [ 1.53139791e+09  3.18000000e-01  5.55000000e-01 ...  1.70000000e+01\n",
            "   1.10000000e+01  3.00000000e+00]\n",
            " [ 1.53139791e+09  3.21000000e-01  5.61000000e-01 ...  1.70000000e+01\n",
            "   1.10000000e+01  3.00000000e+00]\n",
            " [ 1.53139791e+09  3.08000000e-01  5.48000000e-01 ...  1.70000000e+01\n",
            "   1.10000000e+01  3.00000000e+00]]\n"
          ]
        }
      ]
    },
    {
      "cell_type": "markdown",
      "source": [
        "Gera grafico de magnitude de aceleração do dataframe"
      ],
      "metadata": {
        "id": "9Fgs2EoLvl79"
      }
    },
    {
      "cell_type": "code",
      "source": [
        "magnitude_aceleracao = np.sqrt(np.square(data_np[:, EIXO_X]) + np.square(data_np[:, EIXO_Y]) + np.square(data_np[:, EIXO_Z]))\n",
        "plt.plot(magnitude_aceleracao)"
      ],
      "metadata": {
        "colab": {
          "base_uri": "https://localhost:8080/",
          "height": 282
        },
        "id": "ZkvGEZVLQ0WH",
        "outputId": "bb4c1f4c-c3ac-49d2-fa03-96e50adc28db"
      },
      "execution_count": null,
      "outputs": [
        {
          "output_type": "execute_result",
          "data": {
            "text/plain": [
              "[<matplotlib.lines.Line2D at 0x7efd554f1bd0>]"
            ]
          },
          "metadata": {},
          "execution_count": 98
        },
        {
          "output_type": "display_data",
          "data": {
            "image/png": "[encoded data removed]",
            "text/plain": [
              "<Figure size 432x288 with 1 Axes>"
            ]
          },
          "metadata": {
            "needs_background": "light"
          }
        }
      ]
    },
    {
      "cell_type": "markdown",
      "source": [
        "Filtra o dataframe criando lista de amostra dos dados"
      ],
      "metadata": {
        "id": "X3-l95JKvwZR"
      }
    },
    {
      "cell_type": "code",
      "source": [
        "def seleciona_dados(data_np, sujeito, atividade, tentativa):\n",
        "  linhas = []\n",
        "  for amostra in data_np:\n",
        "    if amostra[-3] == sujeito and amostra[-2] == atividade and amostra[-1] == tentativa:\n",
        "      linhas.append(amostra)\n",
        "  return np.array(linhas)\n",
        "\n",
        "dados_selecionados = seleciona_dados(data_np, 1, 1, 1)\n",
        "print(dados_selecionados)\n",
        "print(\"tamanho:\", dados_selecionados.shape)"
      ],
      "metadata": {
        "colab": {
          "base_uri": "https://localhost:8080/"
        },
        "id": "c51U6TGhThGT",
        "outputId": "28110f63-32f2-4887-a6bb-9383bb6b85f3"
      },
      "execution_count": null,
      "outputs": [
        {
          "output_type": "stream",
          "name": "stdout",
          "text": [
            "[[ 1.53070586e+09 -1.24000000e+00 -5.57000000e-01 ...  1.00000000e+00\n",
            "   1.00000000e+00  1.00000000e+00]\n",
            " [ 1.53070586e+09 -1.24000000e+00 -5.57000000e-01 ...  1.00000000e+00\n",
            "   1.00000000e+00  1.00000000e+00]\n",
            " [ 1.53070586e+09 -1.88400000e+00 -6.87000000e-01 ...  1.00000000e+00\n",
            "   1.00000000e+00  1.00000000e+00]\n",
            " ...\n",
            " [ 1.53070587e+09 -6.90000000e-01 -2.87000000e-01 ...  1.00000000e+00\n",
            "   1.00000000e+00  1.00000000e+00]\n",
            " [ 1.53070587e+09 -6.83000000e-01 -2.71000000e-01 ...  1.00000000e+00\n",
            "   1.00000000e+00  1.00000000e+00]\n",
            " [ 1.53070587e+09 -6.83000000e-01 -2.71000000e-01 ...  1.00000000e+00\n",
            "   1.00000000e+00  1.00000000e+00]]\n",
            "tamanho: (195, 7)\n"
          ]
        }
      ]
    },
    {
      "cell_type": "markdown",
      "source": [
        "Remove pastas contendo graficos caso algum erro aconteça"
      ],
      "metadata": {
        "id": "Vert9HFAw58Y"
      }
    },
    {
      "cell_type": "code",
      "source": [
        "#os.system(\"rm -r Sujeito*\")"
      ],
      "metadata": {
        "id": "MyLhFykfXpSX"
      },
      "execution_count": null,
      "outputs": []
    },
    {
      "cell_type": "markdown",
      "source": [
        "Move as pastas contendo graficos para uma pasta chamada \"graficos_tempo\" de forma que seja facil mover para o drive depois."
      ],
      "metadata": {
        "id": "ecOqNwQCxJ8u"
      }
    },
    {
      "cell_type": "code",
      "source": [
        "os.system(\"mkdir graficos_tempo\")\n",
        "os.system(\"mv Sujeito_* graficos_tempo\")"
      ],
      "metadata": {
        "colab": {
          "base_uri": "https://localhost:8080/"
        },
        "id": "bOQGVfCHYh4V",
        "outputId": "c0265345-5723-4ee0-df43-731a3dd318e1"
      },
      "execution_count": null,
      "outputs": [
        {
          "output_type": "execute_result",
          "data": {
            "text/plain": [
              "0"
            ]
          },
          "metadata": {},
          "execution_count": 24
        }
      ]
    },
    {
      "cell_type": "markdown",
      "source": [
        "Função para geração de gráficos com base na aceleração e duração dos eventos"
      ],
      "metadata": {
        "id": "V366Ic_IxjSI"
      }
    },
    {
      "cell_type": "code",
      "source": [
        "def gera_graficos(data_np):\n",
        "  # indices negativos acessam os dados de tras para frente. O -1 eh o ultimo item.\n",
        "  sujeitos = np.unique(data_np[:, -3])\n",
        "  atividades = np.unique(data_np[:, -2])\n",
        "  tentativas = np.unique(data_np[:, -1])\n",
        "\n",
        "  for i in tqdm(sujeitos):\n",
        "    i = int(i)\n",
        "    path = 'Sujeito_' + str(i) + '/'\n",
        "\n",
        "    if not os.path.exists(path):\n",
        "      os.mkdir(path)\n",
        "\n",
        "    for j in atividades:\n",
        "      j = int(j)\n",
        "\n",
        "      for k in tentativas:\n",
        "        k = int(k)\n",
        "\n",
        "        dados_sujeito = seleciona_dados(data_np, i, j, k)\n",
        "        if len(dados_sujeito) <= 5:\n",
        "          continue\n",
        "\n",
        "        magnitude_aceleracao = np.sqrt(np.square(dados_sujeito[:, EIXO_X]) + np.square(dados_sujeito[:, EIXO_Y]) + np.square(dados_sujeito[:, EIXO_Z]))\n",
        "        tempos = dados_sujeito[:, 0] - dados_sujeito[0, 0]\n",
        "\n",
        "        nome = path + 's' + str(i) + '_a' + str(j) + '_t' + str(k) + '.png'\n",
        "        fig = plt.figure()\n",
        "\n",
        "        plt.plot(tempos, magnitude_aceleracao, label='Aceleração')\n",
        "        plt.ylabel('Aceleração (m/seg²)')\n",
        "        plt.xlabel('tempo (s)')\n",
        "        #plt.axis([0, 50000, 0, 1000000]) # [xmin, xmax, ymin, ymax]\n",
        "        plt.legend()\n",
        "        fig.savefig(nome, format='png')\n",
        "        plt.close(fig)\n",
        "\n",
        "gera_graficos(data_np)\n"
      ],
      "metadata": {
        "id": "_0GbVDCPR_rS"
      },
      "execution_count": null,
      "outputs": []
    },
    {
      "cell_type": "markdown",
      "source": [
        "Constantes para analise dos eventos de queda"
      ],
      "metadata": {
        "id": "dhJk8g_5x00i"
      }
    },
    {
      "cell_type": "code",
      "source": [
        "LIMIAR_SUPERIOR_ACELERACAO_QUEDA = 2\n",
        "LIMIAR_INFERIOR_ACELERACAO_QUEDA = 1.5\n",
        "NUM_PICOS_ATIVIDADES_DINAMICAS = 5"
      ],
      "metadata": {
        "id": "9t9igmEEHeYF"
      },
      "execution_count": null,
      "outputs": []
    },
    {
      "cell_type": "markdown",
      "source": [
        "Classificação de eventos de queda com base apenas no limiar superior de aceleração"
      ],
      "metadata": {
        "id": "WQl1NckjyPKJ"
      }
    },
    {
      "cell_type": "code",
      "source": [
        "def classifica_atividade_simples(dados_sujeito):\n",
        "  magnitude_aceleracao = np.sqrt(np.square(dados_sujeito[:, EIXO_X]) + np.square(dados_sujeito[:, EIXO_Y]) + np.square(dados_sujeito[:, EIXO_Z]))\n",
        "  n_picos = 0\n",
        "\n",
        "  for valor_aceleracao in magnitude_aceleracao:\n",
        "    if valor_aceleracao > LIMIAR_SUPERIOR_ACELERACAO_QUEDA:\n",
        "      n_picos += 1\n",
        "\n",
        "  #print(n_picos)\n",
        "  houve_queda = False\n",
        "  if (n_picos > 0) and (n_picos < 0.1 * len(magnitude_aceleracao)):\n",
        "    houve_queda = True\n",
        "\n",
        "  return houve_queda\n"
      ],
      "metadata": {
        "id": "Ls9fisecGM-0"
      },
      "execution_count": null,
      "outputs": []
    },
    {
      "cell_type": "markdown",
      "source": [
        "Classificação de eventos de queda com base limiar superior de aceleração, limiar inferior de aceleração,  janela de tempo de 5 seg e tempo entre picos de 0.5 seg"
      ],
      "metadata": {
        "id": "Svt-6GCsyaiP"
      }
    },
    {
      "cell_type": "code",
      "source": [
        "def classifica_atividade_paper(dados_sujeito):\n",
        "  magnitude_aceleracao = np.sqrt(np.square(dados_sujeito[:, EIXO_X]) + np.square(dados_sujeito[:, EIXO_Y]) + np.square(dados_sujeito[:, EIXO_Z]))\n",
        "  tempos = dados_sujeito[:, 0]\n",
        "  n_picos = 0\n",
        "\n",
        "  for idx, valor_aceleracao in enumerate(magnitude_aceleracao):\n",
        "    valor_aceleracao = magnitude_aceleracao[idx]\n",
        "    if valor_aceleracao > LIMIAR_SUPERIOR_ACELERACAO_QUEDA:\n",
        "      idx_janela0_5 = idx + 1\n",
        "      while (idx_janela0_5 < len(tempos)) and (tempos[idx_janela0_5] - tempos[idx] < 0.5):\n",
        "        if (magnitude_aceleracao[idx_janela0_5] > LIMIAR_INFERIOR_ACELERACAO_QUEDA): #and (magnitude_aceleracao[idx_janela0_5] < LIMIAR_SUPERIOR_ACELERACAO_QUEDA):\n",
        "          n_picos += 1\n",
        "          break\n",
        "        idx_janela0_5 += 1\n",
        "\n",
        "  #print(n_picos)\n",
        "  houve_queda = False\n",
        "  if (n_picos >= 1) and (n_picos <= 10):\n",
        "    houve_queda = True\n",
        "\n",
        "  return houve_queda"
      ],
      "metadata": {
        "id": "oX6woKyjUzyP"
      },
      "execution_count": null,
      "outputs": []
    },
    {
      "cell_type": "markdown",
      "source": [
        "Seleciona amostra de dados do dataframe e analisa se houve queda"
      ],
      "metadata": {
        "id": "FDbQnmAczood"
      }
    },
    {
      "cell_type": "code",
      "source": [
        "dados_sujeito = seleciona_dados(data_np, 1, 10, 1)\n",
        "print(\"houve queda:\", classifica_atividade_paper(dados_sujeito))"
      ],
      "metadata": {
        "colab": {
          "base_uri": "https://localhost:8080/"
        },
        "id": "vWBStXjSd0hi",
        "outputId": "bcc6ffa6-ba40-4216-c64b-3cdaed990f52"
      },
      "execution_count": null,
      "outputs": [
        {
          "output_type": "stream",
          "name": "stdout",
          "text": [
            "houve queda: False\n"
          ]
        }
      ]
    },
    {
      "cell_type": "markdown",
      "source": [
        "Calculo das metricas de performance do algoritmo: acurácia, precisão,\n",
        "revocação e f1-score"
      ],
      "metadata": {
        "id": "uOiHjokf0UE2"
      }
    },
    {
      "cell_type": "code",
      "source": [
        "def calcula_metricas_performance(data_np, funcao_classificao_queda):\n",
        "  saidas_verdadeiras = []\n",
        "  saidas_preditas = []\n",
        "\n",
        "  # indices negativos acessam os dados de tras para frente. O -1 eh o ultimo item.\n",
        "  sujeitos = np.unique(data_np[:, -3])\n",
        "  atividades = np.unique(data_np[:, -2])\n",
        "  tentativas = np.unique(data_np[:, -1])\n",
        "\n",
        "  for i in tqdm(sujeitos):\n",
        "    for j in atividades:\n",
        "      for k in tentativas:\n",
        "        dados_sujeito = seleciona_dados(data_np, i, j, k)\n",
        "        if len(dados_sujeito) <= 5:\n",
        "          continue\n",
        "\n",
        "        predicao = funcao_classificao_queda(dados_sujeito)\n",
        "        label = j in [1, 2, 3, 4, 5]\n",
        "\n",
        "        saidas_verdadeiras.append(label)\n",
        "        saidas_preditas.append(predicao)\n",
        "\n",
        "  print(\"\\n\", classification_report(saidas_verdadeiras, saidas_preditas))\n",
        "\n",
        "#calcula_metricas_performance(data_np, classifica_atividade_simples)\n",
        "calcula_metricas_performance(data_np, classifica_atividade_paper)"
      ],
      "metadata": {
        "colab": {
          "base_uri": "https://localhost:8080/"
        },
        "id": "R7_Ptftdi7M_",
        "outputId": "681f2bbb-3e42-450c-f59c-d26b2abc0981"
      },
      "execution_count": null,
      "outputs": [
        {
          "output_type": "stream",
          "name": "stderr",
          "text": [
            "100%|██████████| 17/17 [01:04<00:00,  3.79s/it]"
          ]
        },
        {
          "output_type": "stream",
          "name": "stdout",
          "text": [
            "\n",
            "               precision    recall  f1-score   support\n",
            "\n",
            "       False       0.94      0.89      0.91       304\n",
            "        True       0.87      0.93      0.90       255\n",
            "\n",
            "    accuracy                           0.91       559\n",
            "   macro avg       0.91      0.91      0.91       559\n",
            "weighted avg       0.91      0.91      0.91       559\n",
            "\n"
          ]
        },
        {
          "output_type": "stream",
          "name": "stderr",
          "text": [
            "\n"
          ]
        }
      ]
    }
  ]
}